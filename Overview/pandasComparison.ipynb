{
 "cells": [
  {
   "cell_type": "markdown",
   "id": "f38bb982-f2a0-4eb6-a243-f40a90888218",
   "metadata": {},
   "source": [
    "## Dataframe performance comparison - read 5 Gb CSV and groupby"
   ]
  },
  {
   "cell_type": "code",
   "execution_count": 1,
   "id": "2ccc421e-e673-4722-9eca-1e11da7c1eed",
   "metadata": {},
   "outputs": [],
   "source": [
    "from pathlib import Path\n",
    "\n",
    "import polars as pl\n",
    "\n",
    "import pandas as pd\n",
    "\n",
    "from pyarrow import csv\n",
    "import duckdb\n",
    "\n",
    "import dask.dataframe as dd"
   ]
  },
  {
   "cell_type": "markdown",
   "id": "df7ad0aa-ec5c-47a8-b060-f24dfa611b6b",
   "metadata": {},
   "source": [
    "Handy print function with markdown formatting"
   ]
  },
  {
   "cell_type": "code",
   "execution_count": 2,
   "id": "f5cb6e8d-26d5-4b4d-936a-5ffb2848de98",
   "metadata": {},
   "outputs": [],
   "source": [
    "from IPython.display import display, Markdown\n",
    "def printMD(text:str):\n",
    "    display(Markdown(text))"
   ]
  },
  {
   "cell_type": "markdown",
   "id": "47076759-747b-4bcc-99ca-773a3b2bd672",
   "metadata": {},
   "source": [
    "## CSV file\n",
    "#### 100m rows, 9 columns"
   ]
  },
  {
   "cell_type": "code",
   "execution_count": 28,
   "id": "0e1ad751-ed63-4158-9827-bff3f9d9dadf",
   "metadata": {},
   "outputs": [],
   "source": [
    "csvFile = Path('../data/G1_1e8_1e2_0_0.csv')"
   ]
  },
  {
   "cell_type": "markdown",
   "id": "ead024b9-677b-451c-bf9a-7466fcdf31b8",
   "metadata": {},
   "source": [
    "### Pandas with no optimizations"
   ]
  },
  {
   "cell_type": "code",
   "execution_count": 12,
   "id": "928164f8-a102-4d53-b3ac-8c74d198e644",
   "metadata": {},
   "outputs": [],
   "source": [
    "def naivePandasQuery(n_rows = None): \n",
    "    df = pd.read_csv(csvFile)\n",
    "    return df.loc[:,['id1','v1']].groupby('id1').sum('v1')"
   ]
  },
  {
   "cell_type": "markdown",
   "id": "f21c7a74-7c39-4d6d-b36f-950df35777e6",
   "metadata": {},
   "source": [
    "### Pandas with selected columns"
   ]
  },
  {
   "cell_type": "code",
   "execution_count": 37,
   "id": "922ecbb4-54a9-422b-ac34-02f52f823ce5",
   "metadata": {},
   "outputs": [],
   "source": [
    "def optimisedPandasQuery(n_rows = None): \n",
    "    df = pd.read_csv(csvFile,usecols=['id1','v1'])\n",
    "    return df.loc[:,['id1','v1']].groupby('id1').sum('v1')"
   ]
  },
  {
   "cell_type": "markdown",
   "id": "2eafc1c7-9d3c-4b4a-b28b-17d3044b6464",
   "metadata": {},
   "source": [
    "### Pandas with PyArrow CSV parser"
   ]
  },
  {
   "cell_type": "code",
   "execution_count": 13,
   "id": "f6969bf0-43d7-454e-af76-12ad727173ac",
   "metadata": {},
   "outputs": [],
   "source": [
    "def pyArrowPandasQuery(n_rows = None):\n",
    "    df = pd.read_csv(csvFile,engine='pyarrow')\n",
    "    return df.loc[:,['id1','v1']].groupby('id1').sum('v1')"
   ]
  },
  {
   "cell_type": "markdown",
   "id": "45a6c9b0-42a4-45a7-8424-a6bf786baaf4",
   "metadata": {},
   "source": [
    "### Dask with specified dtypes"
   ]
  },
  {
   "cell_type": "code",
   "execution_count": 14,
   "id": "d13805d1-cd52-4403-ae71-c230ddf3c6ef",
   "metadata": {},
   "outputs": [],
   "source": [
    "def daskQuery():\n",
    "    dtypeDict = {\n",
    "    \"id1\": \"string[pyarrow]\",\n",
    "    \"v1\": \"int64\",\n",
    "}\n",
    "    ddf = dd.read_csv(csvFile, dtype=dtypeDict,usecols=dtypeDict.keys())\n",
    "    return ddf.groupby(\"id1\", dropna=False, observed=True).agg({\"v1\": \"sum\"}).compute()"
   ]
  },
  {
   "cell_type": "markdown",
   "id": "d2a75dcf-249d-47bb-9c56-b8a4d6cfa92b",
   "metadata": {},
   "source": [
    "### Naive DuckDB with PyArrow (all columns)"
   ]
  },
  {
   "cell_type": "code",
   "execution_count": 17,
   "id": "3b3d40cb-9cd6-4797-a103-0d2839ff5c59",
   "metadata": {},
   "outputs": [],
   "source": [
    "def duckDbNaiveQuery(): \n",
    "    con = duckdb.connect(\":memory:\")\n",
    "    data = csv.read_csv(csvFile)\n",
    "    df = con.query(\n",
    "        f'SELECT id1, sum(v1)::int as v1 FROM data group by id1'\n",
    "    ).to_df()\n",
    "    return df "
   ]
  },
  {
   "cell_type": "markdown",
   "id": "b8445a9c-bb7e-493c-8c3a-e01c46274adf",
   "metadata": {},
   "source": [
    "### Naive DuckDB with PyArrow (selected columns)"
   ]
  },
  {
   "cell_type": "code",
   "execution_count": 18,
   "id": "1d7ed114-8b1d-47aa-bb34-2e1bc595f88b",
   "metadata": {},
   "outputs": [],
   "source": [
    "def duckDbOptimisedQuery(): \n",
    "    con = duckdb.connect(\":memory:\")\n",
    "    data = csv.read_csv(csvFile, convert_options=csv.ConvertOptions(\n",
    "        include_columns=[\"id1\",\"v1\"],\n",
    "    ))\n",
    "    df = con.query(\n",
    "        f'SELECT id1, sum(v1)::int as v1 FROM data group by id1'\n",
    "    ).to_df()\n",
    "    return df "
   ]
  },
  {
   "cell_type": "markdown",
   "id": "7e8105b7-8542-4601-9108-02e645088463",
   "metadata": {},
   "source": [
    "### Polars with lazy evaluation and query optimization"
   ]
  },
  {
   "cell_type": "code",
   "execution_count": null,
   "id": "07849d65-79d2-43e2-a4e3-7e158992c4d9",
   "metadata": {},
   "outputs": [],
   "source": [
    "def lazyPolars(): \n",
    "    df = pl.scan_csv(csvFile)\n",
    "    return df.groupby('id1').agg(pl.col('v1').sum()).collect()"
   ]
  },
  {
   "cell_type": "markdown",
   "id": "a8f5c696-99c6-415e-8eb3-b5df7ed1e0bf",
   "metadata": {},
   "source": [
    "## Test to check outputs match-up"
   ]
  },
  {
   "cell_type": "code",
   "execution_count": 19,
   "id": "8f646ced-628f-4b04-9080-07d1c4443c98",
   "metadata": {},
   "outputs": [],
   "source": [
    "naivePandasDf = naivePandasQuery()"
   ]
  },
  {
   "cell_type": "code",
   "execution_count": 20,
   "id": "238d5a41-ab01-433e-b35d-91867abf05b2",
   "metadata": {},
   "outputs": [],
   "source": [
    "pyArrowPandasDf = pyArrowPandasQuery()\n",
    "pd.testing.assert_frame_equal(naivePandasDf,pyArrowPandasDf)"
   ]
  },
  {
   "cell_type": "code",
   "execution_count": 21,
   "id": "cfdf0159-d678-415d-a395-3d55e30b810e",
   "metadata": {},
   "outputs": [],
   "source": [
    "eagerPolarsDf = eagerPolars()\n",
    "pd.testing.assert_frame_equal(naivePandasDf,eagerPolarsDf.to_pandas().set_index('id1').sort_index())"
   ]
  },
  {
   "cell_type": "code",
   "execution_count": 22,
   "id": "12c57127-c364-410d-a0ed-8948a39b8246",
   "metadata": {},
   "outputs": [],
   "source": [
    "lazyPolarsDf = lazyPolars()\n",
    "pd.testing.assert_frame_equal(naivePandasDf,lazyPolarsDf.to_pandas().set_index('id1').sort_index())"
   ]
  },
  {
   "cell_type": "code",
   "execution_count": 23,
   "id": "3ec4d469-158c-4ddb-8dfe-af7da5192acc",
   "metadata": {},
   "outputs": [],
   "source": [
    "naiveDuckDf = duckDbNaiveQuery()\n",
    "naiveDuckDf.loc[:,'v1'] = naiveDuckDf.loc[:,'v1'].astype(int)\n",
    "pd.testing.assert_frame_equal(naivePandasDf,naiveDuckDf.set_index('id1').sort_index())"
   ]
  },
  {
   "cell_type": "code",
   "execution_count": 24,
   "id": "bfc8220e-df3b-4862-8ae7-6d83edaa822d",
   "metadata": {},
   "outputs": [],
   "source": [
    "optimisedDuckDf = duckDbOptimisedQuery()\n",
    "optimisedDuckDf.loc[:,'v1'] = optimisedDuckDf.loc[:,'v1'].astype(int)\n",
    "pd.testing.assert_frame_equal(naivePandasDf,optimisedDuckDf.set_index('id1').sort_index())"
   ]
  },
  {
   "cell_type": "code",
   "execution_count": 18,
   "id": "f724e153-5dc9-4511-88fb-a66ca96b9065",
   "metadata": {},
   "outputs": [],
   "source": [
    "daskQueryDf = daskQuery()\n",
    "daskQueryDf.index = daskQueryDf.index.astype('object')\n",
    "pd.testing.assert_frame_equal(naivePandasDf,daskQueryDf)"
   ]
  },
  {
   "cell_type": "markdown",
   "id": "0e4faf49-b4d4-4ccb-babf-cc7bc976d560",
   "metadata": {},
   "source": [
    "# Timing comparisons"
   ]
  },
  {
   "cell_type": "code",
   "execution_count": 36,
   "id": "c649ab73-d06f-4e85-8a7e-e3f1dc61cbff",
   "metadata": {},
   "outputs": [
    {
     "data": {
      "text/markdown": [
       "**Naive Pandas**"
      ],
      "text/plain": [
       "<IPython.core.display.Markdown object>"
      ]
     },
     "metadata": {},
     "output_type": "display_data"
    },
    {
     "name": "stdout",
     "output_type": "stream",
     "text": [
      "2min 38s ± 0 ns per loop (mean ± std. dev. of 1 run, 1 loop each)\n"
     ]
    }
   ],
   "source": [
    "printMD('**Naive Pandas**')\n",
    "%timeit -n 1 -r 1 naivePandasQuery()"
   ]
  },
  {
   "cell_type": "code",
   "execution_count": 39,
   "id": "b2d76d51-c623-4d03-a637-60d116916a24",
   "metadata": {},
   "outputs": [
    {
     "data": {
      "text/markdown": [
       "**Optimized Pandas**"
      ],
      "text/plain": [
       "<IPython.core.display.Markdown object>"
      ]
     },
     "metadata": {},
     "output_type": "display_data"
    },
    {
     "name": "stdout",
     "output_type": "stream",
     "text": [
      "1min 37s ± 0 ns per loop (mean ± std. dev. of 1 run, 1 loop each)\n"
     ]
    }
   ],
   "source": [
    "printMD('**Optimized Pandas**')\n",
    "%timeit -n 1 -r 1 optimisedPandasQuery()"
   ]
  },
  {
   "cell_type": "code",
   "execution_count": 11,
   "id": "17aa9fd9-d2aa-4deb-85ab-991d6bfbb437",
   "metadata": {},
   "outputs": [
    {
     "data": {
      "text/markdown": [
       "**PyArrow Pandas**"
      ],
      "text/plain": [
       "<IPython.core.display.Markdown object>"
      ]
     },
     "metadata": {},
     "output_type": "display_data"
    },
    {
     "name": "stdout",
     "output_type": "stream",
     "text": [
      "2min 12s ± 0 ns per loop (mean ± std. dev. of 1 run, 1 loop each)\n"
     ]
    }
   ],
   "source": [
    "printMD('**PyArrow Pandas**')\n",
    "%timeit -n 1 -r 1 pyArrowPandasQuery()"
   ]
  },
  {
   "cell_type": "code",
   "execution_count": 13,
   "id": "9974ca08-4776-4618-a601-514411efa124",
   "metadata": {},
   "outputs": [
    {
     "data": {
      "text/markdown": [
       "**Optimised Dask**"
      ],
      "text/plain": [
       "<IPython.core.display.Markdown object>"
      ]
     },
     "metadata": {},
     "output_type": "display_data"
    },
    {
     "name": "stdout",
     "output_type": "stream",
     "text": [
      "38 s ± 0 ns per loop (mean ± std. dev. of 1 run, 1 loop each)\n"
     ]
    }
   ],
   "source": [
    "printMD('**Optimised Dask**')\n",
    "%timeit -n 1 -r 1 daskQuery()"
   ]
  },
  {
   "cell_type": "code",
   "execution_count": 35,
   "id": "4f1dfeb3-c958-48db-8c8c-6fcffe5ea771",
   "metadata": {},
   "outputs": [
    {
     "data": {
      "text/markdown": [
       "**Naive DuckDB**"
      ],
      "text/plain": [
       "<IPython.core.display.Markdown object>"
      ]
     },
     "metadata": {},
     "output_type": "display_data"
    },
    {
     "name": "stdout",
     "output_type": "stream",
     "text": [
      "16.1 s ± 0 ns per loop (mean ± std. dev. of 1 run, 1 loop each)\n"
     ]
    }
   ],
   "source": [
    "printMD('**Naive DuckDB**')\n",
    "%timeit -n 1 -r 1 duckDbNaiveQuery()"
   ]
  },
  {
   "cell_type": "code",
   "execution_count": 34,
   "id": "a8f037bb-e7da-48c2-ae59-e35874b24f86",
   "metadata": {},
   "outputs": [
    {
     "data": {
      "text/markdown": [
       "**Optimised DuckDB**"
      ],
      "text/plain": [
       "<IPython.core.display.Markdown object>"
      ]
     },
     "metadata": {},
     "output_type": "display_data"
    },
    {
     "name": "stdout",
     "output_type": "stream",
     "text": [
      "7.08 s ± 0 ns per loop (mean ± std. dev. of 1 run, 1 loop each)\n"
     ]
    }
   ],
   "source": [
    "printMD('**Optimised DuckDB**')\n",
    "%timeit -n 1 -r 1 duckDbOptimisedQuery()"
   ]
  },
  {
   "cell_type": "code",
   "execution_count": 33,
   "id": "f364b903-76b5-4503-ba3e-7615a88f6487",
   "metadata": {},
   "outputs": [
    {
     "data": {
      "text/markdown": [
       "**Lazy Polars**"
      ],
      "text/plain": [
       "<IPython.core.display.Markdown object>"
      ]
     },
     "metadata": {},
     "output_type": "display_data"
    },
    {
     "name": "stdout",
     "output_type": "stream",
     "text": [
      "6.09 s ± 0 ns per loop (mean ± std. dev. of 1 run, 1 loop each)\n"
     ]
    }
   ],
   "source": [
    "printMD('**Lazy Polars**')\n",
    "%timeit -n 1 -r 1 lazyPolars()"
   ]
  },
  {
   "cell_type": "code",
   "execution_count": null,
   "id": "2059dc30-e72a-4c8c-804b-b1f2e5aa4d2e",
   "metadata": {},
   "outputs": [],
   "source": []
  },
  {
   "cell_type": "code",
   "execution_count": null,
   "id": "0c11c727-e193-4e3d-acdf-3d94d95453bb",
   "metadata": {},
   "outputs": [],
   "source": []
  },
  {
   "cell_type": "code",
   "execution_count": null,
   "id": "2611167f-c028-4611-9468-209cfe61ad8e",
   "metadata": {},
   "outputs": [],
   "source": []
  }
 ],
 "metadata": {
  "kernelspec": {
   "display_name": "Python 3 (ipykernel)",
   "language": "python",
   "name": "python3"
  },
  "language_info": {
   "codemirror_mode": {
    "name": "ipython",
    "version": 3
   },
   "file_extension": ".py",
   "mimetype": "text/x-python",
   "name": "python",
   "nbconvert_exporter": "python",
   "pygments_lexer": "ipython3",
   "version": "3.10.1"
  }
 },
 "nbformat": 4,
 "nbformat_minor": 5
}
